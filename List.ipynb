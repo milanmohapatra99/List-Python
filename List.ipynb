{
 "cells": [
  {
   "cell_type": "code",
   "execution_count": null,
   "id": "648a7a7f",
   "metadata": {},
   "outputs": [],
   "source": [
    " a=[3,10,-1]"
   ]
  },
  {
   "cell_type": "code",
   "execution_count": null,
   "id": "735b0fbd",
   "metadata": {},
   "outputs": [],
   "source": [
    "print(a)"
   ]
  },
  {
   "cell_type": "code",
   "execution_count": null,
   "id": "3f96838f",
   "metadata": {},
   "outputs": [],
   "source": [
    "a.append(1)"
   ]
  },
  {
   "cell_type": "code",
   "execution_count": null,
   "id": "428a0690",
   "metadata": {},
   "outputs": [],
   "source": [
    "print(a)"
   ]
  },
  {
   "cell_type": "code",
   "execution_count": null,
   "id": "0407dbf3",
   "metadata": {},
   "outputs": [],
   "source": [
    "a.append('hello')\n",
    "print(a)"
   ]
  },
  {
   "cell_type": "code",
   "execution_count": null,
   "id": "995e4132",
   "metadata": {},
   "outputs": [],
   "source": [
    "a.append([1,2])\n",
    "print(a)"
   ]
  },
  {
   "cell_type": "code",
   "execution_count": null,
   "id": "8551da36",
   "metadata": {},
   "outputs": [],
   "source": [
    "a.pop()\n",
    "print(a)"
   ]
  },
  {
   "cell_type": "code",
   "execution_count": null,
   "id": "db05c9a4",
   "metadata": {},
   "outputs": [],
   "source": [
    "a.pop()\n",
    "print(a)"
   ]
  },
  {
   "cell_type": "code",
   "execution_count": null,
   "id": "9c490818",
   "metadata": {},
   "outputs": [],
   "source": [
    "print(a[0])"
   ]
  },
  {
   "cell_type": "code",
   "execution_count": null,
   "id": "ad1738fb",
   "metadata": {},
   "outputs": [],
   "source": [
    "print(a[3])"
   ]
  },
  {
   "cell_type": "code",
   "execution_count": null,
   "id": "3258c28c",
   "metadata": {},
   "outputs": [],
   "source": [
    "a[0] = 100"
   ]
  },
  {
   "cell_type": "code",
   "execution_count": null,
   "id": "da3689a5",
   "metadata": {},
   "outputs": [],
   "source": [
    "print(a)"
   ]
  },
  {
   "cell_type": "code",
   "execution_count": null,
   "id": "848993e4",
   "metadata": {},
   "outputs": [],
   "source": [
    "#swapping list string\n",
    "b=[\"banana\",\"apple\",\"microsoft\"]\n",
    "print(b)\n"
   ]
  },
  {
   "cell_type": "code",
   "execution_count": null,
   "id": "04f95d0c",
   "metadata": {},
   "outputs": [],
   "source": [
    "temp=b[0]\n",
    "b[0]=b[2]\n",
    "b[2]=temp\n",
    "print(b)"
   ]
  },
  {
   "cell_type": "code",
   "execution_count": null,
   "id": "3f10915a",
   "metadata": {},
   "outputs": [],
   "source": [
    "b[0],b[2]=b[2],b[0]\n",
    "print(b)"
   ]
  },
  {
   "cell_type": "code",
   "execution_count": null,
   "id": "4a36d719",
   "metadata": {},
   "outputs": [],
   "source": [
    "x= ['spam' ,'eggs',100,1234,2*2]\n",
    "print(x)\n",
    "print(x[0])\n",
    "print(x[:4])"
   ]
  },
  {
   "cell_type": "code",
   "execution_count": null,
   "id": "8a2b8beb",
   "metadata": {},
   "outputs": [],
   "source": [
    "x[2] = x[2] + 23\n",
    "print(x)"
   ]
  },
  {
   "cell_type": "code",
   "execution_count": null,
   "id": "17fc0969",
   "metadata": {},
   "outputs": [],
   "source": [
    "x[0:2] = [1,12]\n",
    "print(x)"
   ]
  },
  {
   "cell_type": "code",
   "execution_count": null,
   "id": "1afe95d6",
   "metadata": {},
   "outputs": [],
   "source": [
    "x[0:1]=[]\n",
    "print(x)"
   ]
  },
  {
   "cell_type": "code",
   "execution_count": null,
   "id": "0ae90b40",
   "metadata": {},
   "outputs": [],
   "source": [
    "lis=[1,[5,6],7]\n",
    "print(lis[1][1])"
   ]
  },
  {
   "cell_type": "code",
   "execution_count": null,
   "id": "eefa6101",
   "metadata": {},
   "outputs": [],
   "source": [
    "list=range(3)\n",
    "print(list)"
   ]
  },
  {
   "cell_type": "code",
   "execution_count": null,
   "id": "2a2b9818",
   "metadata": {},
   "outputs": [],
   "source": [
    "friends= ['mamun' , 'silu' ,'ani','aru']\n",
    "for friend in friends:\n",
    "    print('Happy New Year:',friend)"
   ]
  },
  {
   "cell_type": "code",
   "execution_count": null,
   "id": "5e603d93",
   "metadata": {},
   "outputs": [],
   "source": [
    "for i in range(len(friends)) :\n",
    "    friend =friends[i]\n",
    "    print('Happy New Year:',friend)"
   ]
  },
  {
   "cell_type": "code",
   "execution_count": null,
   "id": "012d6a1e",
   "metadata": {},
   "outputs": [],
   "source": [
    "#list object having no attribute sort ....so it will show error\n",
    "friends.sortO(reverse=True)\n",
    "print(friends)\n",
    "print(friends[1])"
   ]
  },
  {
   "cell_type": "code",
   "execution_count": 1,
   "id": "462a4477",
   "metadata": {},
   "outputs": [
    {
     "data": {
      "text/plain": [
       "[24, 2, 45]"
      ]
     },
     "execution_count": 1,
     "metadata": {},
     "output_type": "execute_result"
    }
   ],
   "source": [
    "t = [8,45,13,2,86,24]\n",
    "t[::-2]\n"
   ]
  },
  {
   "cell_type": "code",
   "execution_count": 4,
   "id": "f7b092df",
   "metadata": {},
   "outputs": [
    {
     "name": "stdout",
     "output_type": "stream",
     "text": [
      "['book', 99]\n",
      "['book', 99, 'flower']\n"
     ]
    }
   ],
   "source": [
    "stuff = list()\n",
    "stuff.append('book')\n",
    "stuff.append(99)\n",
    "print(stuff)\n",
    "stuff.append('flower')\n",
    "print(stuff)"
   ]
  },
  {
   "cell_type": "code",
   "execution_count": 6,
   "id": "cfc13cc2",
   "metadata": {},
   "outputs": [
    {
     "name": "stdout",
     "output_type": "stream",
     "text": [
      "banana\n",
      "n\n"
     ]
    }
   ],
   "source": [
    "fruit = 'Banana'\n",
    "x = fruit.lower()\n",
    "print(x)\n",
    "print(x[2])"
   ]
  },
  {
   "cell_type": "code",
   "execution_count": 7,
   "id": "2d243847",
   "metadata": {},
   "outputs": [
    {
     "name": "stdout",
     "output_type": "stream",
     "text": [
      "Enter a number: 23\n",
      "Enter a number: 62\n",
      "Enter a number: 64\n",
      "Enter a number: 54\n",
      "Enter a number: 51\n",
      "Enter a number: done\n",
      "Average: 50.8\n"
     ]
    }
   ],
   "source": [
    "#Calculate Average of Number\n",
    "total = 0\n",
    "count = 0\n",
    "while True :\n",
    "    inpu = input('Enter a number: ')\n",
    "    if inpu == 'done' :\n",
    "        break\n",
    "    value = float(inpu)\n",
    "    total = total + value\n",
    "    count = count +1\n",
    "average=total / count\n",
    "print('Average:',average)\n",
    "    "
   ]
  },
  {
   "cell_type": "code",
   "execution_count": 8,
   "id": "fcad58ca",
   "metadata": {},
   "outputs": [
    {
     "name": "stdout",
     "output_type": "stream",
     "text": [
      "6\n",
      "84\n",
      "217\n",
      "36.166666666666664\n"
     ]
    }
   ],
   "source": [
    "nums =[3,51,16,7,56,84]\n",
    "print(len(nums))\n",
    "print(max(nums))\n",
    "print(sum(nums))\n",
    "print(sum(nums)/len(nums))"
   ]
  },
  {
   "cell_type": "code",
   "execution_count": 10,
   "id": "6523ad8e",
   "metadata": {},
   "outputs": [
    {
     "name": "stdout",
     "output_type": "stream",
     "text": [
      "['Wit', ' t', 'ree words']\n",
      "3\n",
      "Wit\n"
     ]
    }
   ],
   "source": [
    "mno = 'With three words'\n",
    "stuff = mno.split('h')\n",
    "print(stuff)\n",
    "print(len(stuff))\n",
    "print(stuff[0])"
   ]
  },
  {
   "cell_type": "code",
   "execution_count": null,
   "id": "abc0e303",
   "metadata": {},
   "outputs": [],
   "source": []
  }
 ],
 "metadata": {
  "kernelspec": {
   "display_name": "Python 3 (ipykernel)",
   "language": "python",
   "name": "python3"
  },
  "language_info": {
   "codemirror_mode": {
    "name": "ipython",
    "version": 3
   },
   "file_extension": ".py",
   "mimetype": "text/x-python",
   "name": "python",
   "nbconvert_exporter": "python",
   "pygments_lexer": "ipython3",
   "version": "3.9.7"
  }
 },
 "nbformat": 4,
 "nbformat_minor": 5
}
